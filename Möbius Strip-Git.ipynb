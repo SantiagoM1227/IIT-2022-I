{
 "cells": [
  {
   "cell_type": "code",
   "execution_count": 9,
   "id": "fcf3fdae",
   "metadata": {
    "scrolled": true
   },
   "outputs": [],
   "source": [
    "from sympy .interactive import printing\n",
    "printing.init_printing(use_latex=True)\n",
    "import sympy as sp\n",
    "from sympy import E, Eq, Function, pde_separate, Derivative as D\n",
    "pi = sp.pi\n",
    "A1, A2, A3, A4, P, x, y, kx, ky, a, n = sp.symbols('A_1 A_2 A_3 A_4 Psi x y k_x k_y a n')\n",
    "X = A1*sp.cos(kx*x)+A2*sp.sin(kx*x)\n",
    "Y = A3*sp.cos(ky*y)+A4*sp.sin(ky*y)\n",
    "B = sp.Eq(Y.subs(y,a/2),0)\n",
    "C = sp.Eq(Y.subs(y,-a/2),0)\n",
    "\n",
    "\n",
    "\n"
   ]
  },
  {
   "cell_type": "code",
   "execution_count": 10,
   "id": "4f3542a6",
   "metadata": {},
   "outputs": [
    {
     "name": "stdout",
     "output_type": "stream",
     "text": [
      "for y-direction B.C:\n"
     ]
    },
    {
     "data": {
      "image/png": "[encoded data removed]",
      "text/latex": [
       "$\\displaystyle A_{3} \\cos{\\left(\\frac{a k_{y}}{2} \\right)} + A_{4} \\sin{\\left(\\frac{a k_{y}}{2} \\right)} = 0$"
      ],
      "text/plain": [
       "      ⎛a⋅k_y⎞         ⎛a⋅k_y⎞    \n",
       "A₃⋅cos⎜─────⎟ + A₄⋅sin⎜─────⎟ = 0\n",
       "      ⎝  2  ⎠         ⎝  2  ⎠    "
      ]
     },
     "metadata": {},
     "output_type": "display_data"
    },
    {
     "data": {
      "image/png": "[encoded data removed]",
      "text/latex": [
       "$\\displaystyle A_{3} \\cos{\\left(\\frac{a k_{y}}{2} \\right)} - A_{4} \\sin{\\left(\\frac{a k_{y}}{2} \\right)} = 0$"
      ],
      "text/plain": [
       "      ⎛a⋅k_y⎞         ⎛a⋅k_y⎞    \n",
       "A₃⋅cos⎜─────⎟ - A₄⋅sin⎜─────⎟ = 0\n",
       "      ⎝  2  ⎠         ⎝  2  ⎠    "
      ]
     },
     "metadata": {},
     "output_type": "display_data"
    }
   ],
   "source": [
    "print('for y-direction B.C:')\n",
    "display(B,C)\n",
    "Ky1 = sp.solve(sp.cos(ky*a/2),ky)\n",
    "Ky2 = sp.solve(sp.sin(ky*a/2),ky)\n",
    "\n"
   ]
  },
  {
   "cell_type": "code",
   "execution_count": 11,
   "id": "839eb02f",
   "metadata": {},
   "outputs": [
    {
     "name": "stdout",
     "output_type": "stream",
     "text": [
      "for I:\n"
     ]
    },
    {
     "data": {
      "image/png": "[encoded data removed]",
      "text/latex": [
       "$\\displaystyle \\left[ \\frac{\\pi}{a}, \\  \\frac{3 \\pi}{a}\\right]$"
      ],
      "text/plain": [
       "⎡π  3⋅π⎤\n",
       "⎢─, ───⎥\n",
       "⎣a   a ⎦"
      ]
     },
     "metadata": {},
     "output_type": "display_data"
    },
    {
     "data": {
      "image/png": "[encoded data removed]",
      "text/latex": [
       "$\\displaystyle A_{3} \\cos{\\left(\\frac{\\pi y \\left(2 n + 1\\right)}{a} \\right)}$"
      ],
      "text/plain": [
       "      ⎛π⋅y⋅(2⋅n + 1)⎞\n",
       "A₃⋅cos⎜─────────────⎟\n",
       "      ⎝      a      ⎠"
      ]
     },
     "metadata": {},
     "output_type": "display_data"
    },
    {
     "name": "stdout",
     "output_type": "stream",
     "text": [
      "x-direction BC:\n"
     ]
    },
    {
     "data": {
      "image/png": "[encoded data removed]",
      "text/latex": [
       "$\\displaystyle - A_{1} \\cos{\\left(a k_{x} \\right)} + A_{1} - A_{2} \\sin{\\left(a k_{x} \\right)} = 0$"
      ],
      "text/plain": [
       "-A₁⋅cos(a⋅kₓ) + A₁ - A₂⋅sin(a⋅kₓ) = 0"
      ]
     },
     "metadata": {},
     "output_type": "display_data"
    },
    {
     "data": {
      "image/png": "[encoded data removed]",
      "text/latex": [
       "$\\displaystyle A_{1} \\cos{\\left(a k_{x} \\right)} - A_{1} - A_{2} \\sin{\\left(a k_{x} \\right)} = 0$"
      ],
      "text/plain": [
       "A₁⋅cos(a⋅kₓ) - A₁ - A₂⋅sin(a⋅kₓ) = 0"
      ]
     },
     "metadata": {},
     "output_type": "display_data"
    },
    {
     "name": "stdout",
     "output_type": "stream",
     "text": [
      "2nd minus 1st\n"
     ]
    },
    {
     "data": {
      "image/png": "[encoded data removed]",
      "text/latex": [
       "$\\displaystyle 2 A_{1} \\left(\\cos{\\left(a k_{x} \\right)} - 1\\right)$"
      ],
      "text/plain": [
       "2⋅A₁⋅(cos(a⋅kₓ) - 1)"
      ]
     },
     "metadata": {},
     "output_type": "display_data"
    },
    {
     "name": "stdout",
     "output_type": "stream",
     "text": [
      "1st plus 2nd\n"
     ]
    },
    {
     "data": {
      "image/png": "[encoded data removed]",
      "text/latex": [
       "$\\displaystyle - 2 A_{2} \\sin{\\left(a k_{x} \\right)}$"
      ],
      "text/plain": [
       "-2⋅A₂⋅sin(a⋅kₓ)"
      ]
     },
     "metadata": {},
     "output_type": "display_data"
    }
   ],
   "source": [
    "print('for I:')\n",
    "display(Ky1)\n",
    "Y1 = A3*sp.cos(((2*n+1)*pi/a)*y)\n",
    "display(Y1)\n",
    "print('x-direction BC:')\n",
    "P = X*Y1\n",
    "BC = sp.expand(P-P.subs(x,x+a).subs(y,-y))\n",
    "E1 = sp.Eq(sp.simplify(BC.subs(x,0)/Y1),0)\n",
    "display(E1)\n",
    "\n",
    "E2 = sp.Eq(sp.simplify(BC.subs(x,-a)/Y1),0)\n",
    "display(E2)\n",
    "\n",
    "\n",
    "\n",
    "Sum12 = sp.simplify((BC.subs(x,-a)-BC.subs(x,0))/Y1)\n",
    "Sum21 = sp.simplify((BC.subs(x,0)+BC.subs(x,-a))/Y1)\n",
    "print('2nd minus 1st')\n",
    "display(Sum12)\n",
    "print('1st plus 2nd')\n",
    "display(Sum21)\n",
    "\n"
   ]
  },
  {
   "cell_type": "code",
   "execution_count": null,
   "id": "13e1f917",
   "metadata": {},
   "outputs": [],
   "source": [
    "\n",
    "print('for II:')\n",
    "display(Ky2)\n",
    "Y2 = A4*sp.sin(((2*n)*pi/a)*y)\n",
    "display(Y2)\n"
   ]
  },
  {
   "cell_type": "code",
   "execution_count": null,
   "id": "c36d8a20",
   "metadata": {},
   "outputs": [],
   "source": []
  },
  {
   "cell_type": "code",
   "execution_count": null,
   "id": "675bee47",
   "metadata": {},
   "outputs": [],
   "source": []
  },
  {
   "cell_type": "code",
   "execution_count": null,
   "id": "bffc499e",
   "metadata": {},
   "outputs": [],
   "source": []
  },
  {
   "cell_type": "code",
   "execution_count": null,
   "id": "b93736d6",
   "metadata": {},
   "outputs": [],
   "source": []
  },
  {
   "cell_type": "code",
   "execution_count": null,
   "id": "a618627b",
   "metadata": {},
   "outputs": [],
   "source": []
  }
 ],
 "metadata": {
  "kernelspec": {
   "display_name": "Python 3 (ipykernel)",
   "language": "python",
   "name": "python3"
  },
  "language_info": {
   "codemirror_mode": {
    "name": "ipython",
    "version": 3
   },
   "file_extension": ".py",
   "mimetype": "text/x-python",
   "name": "python",
   "nbconvert_exporter": "python",
   "pygments_lexer": "ipython3",
   "version": "3.9.7"
  }
 },
 "nbformat": 4,
 "nbformat_minor": 5
}
