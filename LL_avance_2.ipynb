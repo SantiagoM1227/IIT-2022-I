{
 "cells": [
  {
   "cell_type": "code",
   "execution_count": 1,
   "metadata": {
    "id": "dTOsYQDVcIsg"
   },
   "outputs": [],
   "source": [
    "#init\n",
    "from matplotlib import pyplot as pl \n",
    "import numpy as np\n",
    "from numpy.linalg import eig\n",
    "import math as math\n",
    "\n",
    "#tweaks\n",
    "a=1\n",
    "pi = np.pi\n",
    "I = 0+1j\n",
    "N = 50 #Matrix truncation\n",
    "G = 30 #should be less than N\n",
    "C = 2*G\n",
    "D = -I*G/pi"
   ]
  },
  {
   "cell_type": "code",
   "execution_count": 22,
   "metadata": {
    "id": "KjxGQqd2cVy_"
   },
   "outputs": [],
   "source": [
    "#plots\n",
    "def plotenergies(E,x_lim,y_lim):\n",
    "  E = np.real(E)\n",
    "  l = len(E)\n",
    "  Energy = np.sort(E)\n",
    "  x=np.linspace(1,l,l)\n",
    "  pl.xlabel(\"Eigenvalue Number\") \n",
    "  pl.ylabel(\"Energies\") \n",
    "  pl.xlim([0, x_lim])\n",
    "  pl.ylim([0, y_lim])\n",
    "  pl.scatter(x,Energy) \n",
    "  pl.show()\n",
    "def plotdensities(Matrix,N,steps,level):\n",
    "    x = np.linspace(0,1,steps+1) #a =1\n",
    "    Psi = eigenstates(Matrix,N,steps,level)\n",
    "    fig = pl.contour(x,x,np.square(np.abs(Psi)),500)\n",
    "\n",
    "def plotdensities_Mobius(Matrix,N,steps,level):\n",
    "    x = np.linspace(0,1,steps+1) #a =1\n",
    "    Psi_Mobius = eigenstates_Mobius(Matrix,N,steps,level)\n",
    "    fig = pl.contour(x,x,np.square(np.abs(Psi_Mobius)),500)\n",
    "\n",
    "def plotdensities_Cylinder(Matrix,N,steps,level):\n",
    "    x = np.linspace(0,1,steps+1) #a =1\n",
    "    Psi_Cylinder = eigenstates_Cylinder(Matrix,N,steps,level)\n",
    "    fig = pl.contour(x,x,np.square(np.abs(Psi_Cylinder)),500)"
   ]
  },
  {
   "cell_type": "code",
   "execution_count": 23,
   "metadata": {
    "id": "aEIzrDacb5hO"
   },
   "outputs": [],
   "source": [
    "#square\n",
    "\n",
    "#Auxiliary functions\n",
    "def g_o(n,nn):\n",
    "  if (n+nn)%2==0:\n",
    "    value = 0\n",
    "  else: \n",
    "    term1 = 1/(n-nn)**2\n",
    "    term2 = 1/(n+nn)**2\n",
    "    value = term1-term2\n",
    "  return value\n",
    "\n",
    "def g_e(n,nn):\n",
    "  if (n+nn)%2==0:\n",
    "    term1 = 1/(n-nn)**2\n",
    "    term2 = 1/(n+nn)**2\n",
    "    value = term1-term2\n",
    "  else: \n",
    "    value = 0\n",
    "  return value\n",
    "\n",
    "def f_o(n,nn):\n",
    "  if (n+nn)%2==0:\n",
    "    value = 0\n",
    "  else: \n",
    "    num = n*nn\n",
    "    den = n**2-nn**2\n",
    "    value = num/den\n",
    "  return value"
   ]
  },
  {
   "cell_type": "code",
   "execution_count": 24,
   "metadata": {
    "colab": {
     "base_uri": "https://localhost:8080/"
    },
    "id": "bo9CLdnSb5jW",
    "outputId": "36aecd51-7039-4fd3-ff1c-fdf09bdcb72c"
   },
   "outputs": [
    {
     "data": {
      "text/plain": [
       "60.810934721896"
      ]
     },
     "execution_count": 24,
     "metadata": {},
     "output_type": "execute_result"
    }
   ],
   "source": [
    "#4D hamiltonian matrix elements\n",
    "def H_n_nn_m_mm(n,nn,m,mm):\n",
    "    if mm==m:\n",
    "        if nn==n:\n",
    "            element = (n**2)+(m**2)+((G**2)/2)*((1/3)-((1/(pi*n))**2)-((1/(pi*m)**2)))\n",
    "        else: \n",
    "            element = 2*(G/pi)**2*(g_e(n,nn))\n",
    "    else: \n",
    "        if n==nn:\n",
    "            element = 2*(G/pi)**2*(g_e(m,mm))\n",
    "        else:\n",
    "            element = -I*(16*G/(pi**3))*(g_o(n,nn)*f_o(m,mm)-g_o(m,mm)*f_o(n,nn))\n",
    "    return element\n",
    "\n",
    "H_n_nn_m_mm(1,1,1,1)"
   ]
  },
  {
   "cell_type": "code",
   "execution_count": 25,
   "metadata": {
    "id": "oSB_gAjeb5lu"
   },
   "outputs": [],
   "source": [
    "#4D NxNxNxN matrix to 2D NxN matrix of 2D NxN matrices  N is the precission\n",
    "def H_m_mm_Matrix(m,mm,N):\n",
    "  H_block = np.zeros((N,N),dtype=complex)\n",
    "  if m==mm:\n",
    "    for n in range(N):\n",
    "      H_block[n][n] = H_n_nn_m_mm(n+1,n+1,m+1,mm+1)\n",
    "      for nn in range (N):\n",
    "        H_block[n][nn] = H_n_nn_m_mm(n+1,nn+1,m+1,mm+1)\n",
    "  else: \n",
    "    for n in range(N):\n",
    "      for nn in range(N):\n",
    "        H_block[n][nn] = H_n_nn_m_mm(n+1,nn+1,m+1,mm+1)\n",
    "  return H_block"
   ]
  },
  {
   "cell_type": "code",
   "execution_count": 26,
   "metadata": {
    "id": "qN2lCcFsb5n4"
   },
   "outputs": [],
   "source": [
    "#Break blocks\n",
    "def H_matrix(N):\n",
    "    Zero = np.zeros((N,N),dtype = complex)\n",
    "    H = [[Zero for _ in range(N)] for _ in range(N)] #NxN \"matrix of matrices\" of NxN zero matrices\n",
    "    #fill upper triangular blocks and leave zeros everywhere\n",
    "    for m in range(N):\n",
    "      H[m][m] = H_m_mm_Matrix(m,m,N) #diagonal \n",
    "      for mm in range(m+1,N):\n",
    "        H[m][mm] = H_m_mm_Matrix(m,mm,N) #upper triangle\n",
    "    H = np.matrix(np.block(H)) #from block to matrix\n",
    "    H_final = np.triu(H)+ np.tril(np.conj(H.T),-1) #Make Hermitian\n",
    "    #quality control\n",
    "    print(H_final)\n",
    "    print(np.size(H_final,1))\n",
    "    return H_final"
   ]
  },
  {
   "cell_type": "code",
   "execution_count": 58,
   "metadata": {
    "id": "jqCcl9x397yd"
   },
   "outputs": [],
   "source": [
    "def eigenstates(Matrix,N,steps,level):\n",
    "    Psi = np.zeros([steps+1,steps+1], dtype = complex )\n",
    "    x = np.linspace(0,1,steps)\n",
    "    y = x\n",
    "    Matrix = np.reshape(Matrix[:,level],[N,N])\n",
    "    for j in range(len(x)):\n",
    "        for k in range(len(y)):\n",
    "            Psi_y = np.array([np.sqrt(2)*np.sin((t+1)*pi*y[k]) for t in range (N)])\n",
    "            Psi_x = np.array([np.sqrt(2)*np.sin((t+1)*pi*x[j]) for t in range (N)])\n",
    "            A = np.matmul(Matrix,Psi_y)\n",
    "            B = np.matmul(np.transpose(Psi_x),A)\n",
    "            #print(B,np.size(B)) control\n",
    "            Psi[k,j] = B\n",
    "    out = Psi\n",
    "    return out\n"
   ]
  },
  {
   "cell_type": "code",
   "execution_count": 28,
   "metadata": {
    "colab": {
     "base_uri": "https://localhost:8080/"
    },
    "id": "lUWvOsuxb5p-",
    "outputId": "4f4f1ebe-8300-49a1-a43b-38c04b0f5097"
   },
   "outputs": [
    {
     "name": "stdout",
     "output_type": "stream",
     "text": [
      "[[  60.81093472+0.00000000e+00j    0.        +0.00000000e+00j\n",
      "    34.19589948+0.00000000e+00j ...    0.        +8.79424449e-07j\n",
      "     0.        +0.00000000e+00j    0.        +0.00000000e+00j]\n",
      " [   0.        +0.00000000e+00j   98.0068342 +0.00000000e+00j\n",
      "     0.        +0.00000000e+00j ...    0.        +0.00000000e+00j\n",
      "     0.        +8.62540075e-07j    0.        +0.00000000e+00j]\n",
      " [  34.19589948+0.00000000e+00j    0.        +0.00000000e+00j\n",
      "   109.33940818+0.00000000e+00j ...    0.        +2.76513527e-06j\n",
      "     0.        +0.00000000e+00j    0.        +9.58788671e-08j]\n",
      " ...\n",
      " [   0.        -8.79424449e-07j    0.        +0.00000000e+00j\n",
      "     0.        -2.76513527e-06j ... 4953.96197289+0.00000000e+00j\n",
      "     0.        +0.00000000e+00j   45.57554283+0.00000000e+00j]\n",
      " [   0.        +0.00000000e+00j    0.        -8.62540075e-07j\n",
      "     0.        +0.00000000e+00j ...    0.        +0.00000000e+00j\n",
      "  5050.96277238+0.00000000e+00j    0.        +0.00000000e+00j]\n",
      " [   0.        +0.00000000e+00j    0.        +0.00000000e+00j\n",
      "     0.        -9.58788671e-08j ...   45.57554283+0.00000000e+00j\n",
      "     0.        +0.00000000e+00j 5149.96352437+0.00000000e+00j]]\n",
      "2500\n"
     ]
    }
   ],
   "source": [
    "#calculate\n",
    "H = H_matrix(N)"
   ]
  },
  {
   "cell_type": "code",
   "execution_count": 29,
   "metadata": {
    "colab": {
     "base_uri": "https://localhost:8080/"
    },
    "id": "Tj8QLIt-b5sG",
    "outputId": "492cf4f6-a0cf-43b5-fdba-9cae1566d113"
   },
   "outputs": [],
   "source": [
    "#solve matrix\n",
    "E, V = eig(H)"
   ]
  },
  {
   "cell_type": "code",
   "execution_count": 32,
   "metadata": {},
   "outputs": [
    {
     "name": "stdout",
     "output_type": "stream",
     "text": [
      "[423 425 470 ...   1   0   2]\n"
     ]
    }
   ],
   "source": [
    "index = np.argsort(np.real(E))\n",
    "print(index)"
   ]
  },
  {
   "cell_type": "code",
   "execution_count": 40,
   "metadata": {},
   "outputs": [],
   "source": [
    "C = V[:,index]"
   ]
  },
  {
   "cell_type": "code",
   "execution_count": 34,
   "metadata": {},
   "outputs": [
    {
     "name": "stdout",
     "output_type": "stream",
     "text": [
      "[-1.41818563e-06-1.83940199e-08j -3.63776424e-01-1.82936717e-09j\n",
      "  4.67695628e-07-2.80244609e-07j ...  2.56311227e-16-4.14963106e-16j\n",
      "  2.49897658e-17-4.47649818e-11j  1.78471051e-16-2.58157671e-16j] 1\n"
     ]
    }
   ],
   "source": [
    "A = (C[:,1])\n",
    "print(C[:,1],np.size(2))"
   ]
  },
  {
   "cell_type": "code",
   "execution_count": 43,
   "metadata": {},
   "outputs": [],
   "source": [
    "D = np.sort(E)"
   ]
  },
  {
   "cell_type": "code",
   "execution_count": 44,
   "metadata": {},
   "outputs": [
    {
     "name": "stdout",
     "output_type": "stream",
     "text": [
      "(631.9264043334526+5.375259817632014e-14j)\n"
     ]
    }
   ],
   "source": [
    "print(D[470])"
   ]
  },
  {
   "cell_type": "code",
   "execution_count": 45,
   "metadata": {
    "colab": {
     "base_uri": "https://localhost:8080/",
     "height": 283
    },
    "id": "xPMRAKzFb5uX",
    "outputId": "3f74bd66-bcb3-4d71-93e0-03db55703715"
   },
   "outputs": [
    {
     "data": {
      "image/png": "[encoded data removed]",
      "text/plain": [
       "<Figure size 432x288 with 1 Axes>"
      ]
     },
     "metadata": {
      "needs_background": "light"
     },
     "output_type": "display_data"
    }
   ],
   "source": [
    "#print & plot\n",
    "plotenergies(D,200,300)"
   ]
  },
  {
   "cell_type": "code",
   "execution_count": 56,
   "metadata": {},
   "outputs": [
    {
     "ename": "NameError",
     "evalue": "name 'eigenstates' is not defined",
     "output_type": "error",
     "traceback": [
      "\u001b[1;31m---------------------------------------------------------------------------\u001b[0m",
      "\u001b[1;31mNameError\u001b[0m                                 Traceback (most recent call last)",
      "\u001b[1;32m~\\AppData\\Local\\Temp/ipykernel_10104/373533733.py\u001b[0m in \u001b[0;36m<module>\u001b[1;34m\u001b[0m\n\u001b[1;32m----> 1\u001b[1;33m \u001b[0mplotdensities\u001b[0m\u001b[1;33m(\u001b[0m\u001b[0mC\u001b[0m\u001b[1;33m,\u001b[0m\u001b[0mN\u001b[0m\u001b[1;33m,\u001b[0m\u001b[1;36m200\u001b[0m\u001b[1;33m,\u001b[0m\u001b[1;36m0\u001b[0m\u001b[1;33m)\u001b[0m\u001b[1;33m\u001b[0m\u001b[1;33m\u001b[0m\u001b[0m\n\u001b[0m",
      "\u001b[1;32m~\\AppData\\Local\\Temp/ipykernel_10104/1878707202.py\u001b[0m in \u001b[0;36mplotdensities\u001b[1;34m(Matrix, N, steps, level)\u001b[0m\n\u001b[0;32m     13\u001b[0m \u001b[1;32mdef\u001b[0m \u001b[0mplotdensities\u001b[0m\u001b[1;33m(\u001b[0m\u001b[0mMatrix\u001b[0m\u001b[1;33m,\u001b[0m\u001b[0mN\u001b[0m\u001b[1;33m,\u001b[0m\u001b[0msteps\u001b[0m\u001b[1;33m,\u001b[0m\u001b[0mlevel\u001b[0m\u001b[1;33m)\u001b[0m\u001b[1;33m:\u001b[0m\u001b[1;33m\u001b[0m\u001b[1;33m\u001b[0m\u001b[0m\n\u001b[0;32m     14\u001b[0m     \u001b[0mx\u001b[0m \u001b[1;33m=\u001b[0m \u001b[0mnp\u001b[0m\u001b[1;33m.\u001b[0m\u001b[0mlinspace\u001b[0m\u001b[1;33m(\u001b[0m\u001b[1;36m0\u001b[0m\u001b[1;33m,\u001b[0m\u001b[1;36m1\u001b[0m\u001b[1;33m,\u001b[0m\u001b[0msteps\u001b[0m\u001b[1;33m+\u001b[0m\u001b[1;36m1\u001b[0m\u001b[1;33m)\u001b[0m \u001b[1;31m#a =1\u001b[0m\u001b[1;33m\u001b[0m\u001b[1;33m\u001b[0m\u001b[0m\n\u001b[1;32m---> 15\u001b[1;33m     \u001b[0mPsi\u001b[0m \u001b[1;33m=\u001b[0m \u001b[0meigenstates\u001b[0m\u001b[1;33m(\u001b[0m\u001b[0mMatrix\u001b[0m\u001b[1;33m,\u001b[0m\u001b[0mN\u001b[0m\u001b[1;33m,\u001b[0m\u001b[0msteps\u001b[0m\u001b[1;33m,\u001b[0m\u001b[0mlevel\u001b[0m\u001b[1;33m)\u001b[0m\u001b[1;33m\u001b[0m\u001b[1;33m\u001b[0m\u001b[0m\n\u001b[0m\u001b[0;32m     16\u001b[0m     \u001b[0mfig\u001b[0m \u001b[1;33m=\u001b[0m \u001b[0mpl\u001b[0m\u001b[1;33m.\u001b[0m\u001b[0mcontour\u001b[0m\u001b[1;33m(\u001b[0m\u001b[0mx\u001b[0m\u001b[1;33m,\u001b[0m\u001b[0mx\u001b[0m\u001b[1;33m,\u001b[0m\u001b[0mnp\u001b[0m\u001b[1;33m.\u001b[0m\u001b[0msquare\u001b[0m\u001b[1;33m(\u001b[0m\u001b[0mnp\u001b[0m\u001b[1;33m.\u001b[0m\u001b[0mabs\u001b[0m\u001b[1;33m(\u001b[0m\u001b[0mPsi\u001b[0m\u001b[1;33m)\u001b[0m\u001b[1;33m)\u001b[0m\u001b[1;33m,\u001b[0m\u001b[1;36m500\u001b[0m\u001b[1;33m)\u001b[0m\u001b[1;33m\u001b[0m\u001b[1;33m\u001b[0m\u001b[0m\n\u001b[0;32m     17\u001b[0m \u001b[1;33m\u001b[0m\u001b[0m\n",
      "\u001b[1;31mNameError\u001b[0m: name 'eigenstates' is not defined"
     ]
    }
   ],
   "source": [
    "plotdensities(C,N,200,0)"
   ]
  },
  {
   "cell_type": "code",
   "execution_count": 70,
   "metadata": {
    "id": "tNN0_F4DbeLV"
   },
   "outputs": [],
   "source": [
    "#auxiliary functions\n",
    "def oscMOB(m,mm):\n",
    "  k = m+mm\n",
    "  num = -I*(4*(G**2))*(2+((-1)**k)*((-1+I)+pi*(m-mm))*(1+I)+pi*(m-mm))\n",
    "  den = ((m-mm)**3)*(pi**3)\n",
    "  out = num/den\n",
    "  return out\n",
    "def angMOBmequal(m,n,nn):\n",
    "  if (nn+n)%2==0:\n",
    "    out = 0\n",
    "  else: \n",
    "    num = I*((-8*G)/(pi))*(n*nn)\n",
    "    den = n**2-nn**2\n",
    "    out = num/den\n",
    "  return out\n",
    "def angMOBmdifferent(m,mm,n,nn):\n",
    "    num = 2*angMOBmequal(m,n,nn)*(2+I*pi*(mm-m))\n",
    "    den = ((m-mm)**2)*pi**2\n",
    "    out = num/den\n",
    "    return out"
   ]
  },
  {
   "cell_type": "code",
   "execution_count": 71,
   "metadata": {
    "id": "eFAHm0ZV2kLX"
   },
   "outputs": [],
   "source": [
    "#4D  Möbius Hamiltonian matrix elements\n",
    "def Mobius_H_n_nn_m_mm(n,nn,m,mm):\n",
    "    if mm==m:\n",
    "        if nn==n:\n",
    "            element = (n**2)+(m**2)+(4/3)*(G**2)\n",
    "        else: \n",
    "            element = angMOBmequal(m,n,nn)\n",
    "    else: \n",
    "        if n==nn:\n",
    "            element = oscMOB(m,mm)\n",
    "        else:\n",
    "            element = angMOBmdifferent(m,mm,n,nn)\n",
    "    return element"
   ]
  },
  {
   "cell_type": "code",
   "execution_count": 72,
   "metadata": {
    "id": "SoRIPww5In0u"
   },
   "outputs": [],
   "source": [
    "#4D NxNxNxN matrix to 2D NxN matrix of 2D NxN matrices  N is the precission\n",
    "#n-nn position is occupied by an even or odd number given by the parity of m and mm\n",
    "def H_m_mm_Mobius_Matrix(m,mm,N):\n",
    "  H_block = np.zeros((N,N),dtype=complex)\n",
    "  if m==mm:\n",
    "    if (m+1)%2==0:\n",
    "      for n in range(N):\n",
    "        H_block[n][n] = Mobius_H_n_nn_m_mm((2*(n+1))+1,2*(n+1)+1,m+1,mm+1)\n",
    "        for nn in range (N):\n",
    "          H_block[n][nn] = Mobius_H_n_nn_m_mm((2*(n+1))+1,2*(nn+1)+1,m+1,mm+1)\n",
    "    else:\n",
    "      for n in range(N):\n",
    "        H_block[n][n] = Mobius_H_n_nn_m_mm(2*(n+1),2*(n+1),m+1,mm+1)\n",
    "        for nn in range (N):\n",
    "          H_block[n][nn] = Mobius_H_n_nn_m_mm(2*(n+1),2*(nn+1),m+1,mm+1)\n",
    "  else: \n",
    "      if (m+1)%2==0:\n",
    "        if (mm+1)%2==0:\n",
    "          for n in range(N):\n",
    "            H_block[n][n] = Mobius_H_n_nn_m_mm(2*(n+1)+1,2*(n+1)+1,m+1,mm+1)\n",
    "            for nn in range (N):\n",
    "              H_block[n][nn] = Mobius_H_n_nn_m_mm(2*(n+1)+1,2*(nn+1)+1,m+1,mm+1)\n",
    "        else: \n",
    "          for n in range(N):\n",
    "            H_block[n][n] = Mobius_H_n_nn_m_mm(2*(n+1),2*(n+1),m+1,mm+1)\n",
    "            for nn in range (N):\n",
    "              H_block[n][nn] = Mobius_H_n_nn_m_mm(2*(n+1),2*(nn+1),m+1,mm+1)\n",
    "      else:\n",
    "        if (mm+1)%2==0:\n",
    "          for n in range(N):\n",
    "            H_block[n][n] = Mobius_H_n_nn_m_mm(2*(n+1),2*(n+1)+1,m+1,mm+1)\n",
    "            for nn in range (N):\n",
    "              H_block[n][nn] = Mobius_H_n_nn_m_mm(2*(n+1),2*(nn+1)+1,m+1,mm+1)\n",
    "        else: \n",
    "          for n in range(N):\n",
    "            H_block[n][n] = Mobius_H_n_nn_m_mm(2*(n+1),2*(n+1),m+1,mm+1)\n",
    "            for nn in range (N):\n",
    "              H_block[n][nn] = Mobius_H_n_nn_m_mm(2*(n+1),2*(nn+1),m+1,mm+1)\n",
    "  return H_block"
   ]
  },
  {
   "cell_type": "code",
   "execution_count": 73,
   "metadata": {
    "id": "s7jn9On0In6L"
   },
   "outputs": [],
   "source": [
    "#Break blocks for Möbius Matrix\n",
    "def H_Mobius_matrix(N):\n",
    "    Zero = np.zeros((N,N),dtype = complex)\n",
    "    H_Mobius = [[Zero for _ in range(N)] for _ in range(N)] #NxN \"matrix of matrices\" of NxN zero matrices\n",
    "    #fill upper triangular blocks and leave zeros everywhere\n",
    "    for m in range(N):\n",
    "      H_Mobius[m][m] = H_m_mm_Mobius_Matrix(m,m,N) #diagonal \n",
    "      for mm in range(m+1,N):\n",
    "        H_Mobius[m][mm] = H_m_mm_Mobius_Matrix(m,mm,N) #upper triangle\n",
    "    H_Mobius = np.matrix(np.block(H_Mobius)) #from block to matrix\n",
    "    H_final = np.triu(H_Mobius)+ np.tril(np.conj(H_Mobius.T),-1) #Make Hermitian\n",
    "    #quality control\n",
    "    print(H_final)\n",
    "    print(np.size(H_final,1))\n",
    "    return H_final"
   ]
  },
  {
   "cell_type": "code",
   "execution_count": 74,
   "metadata": {
    "colab": {
     "base_uri": "https://localhost:8080/"
    },
    "id": "kDZhlfBXIn_R",
    "outputId": "9e20fe54-1613-48ea-ded1-2600ac3317b4"
   },
   "outputs": [
    {
     "name": "stdout",
     "output_type": "stream",
     "text": [
      "[[ 1.20500000e+03+0.j          0.00000000e+00+0.j\n",
      "   0.00000000e+00+0.j         ... -2.04733232e-02+0.00026599j\n",
      "  -2.00593795e-02+0.00026062j -1.96618493e-02+0.00025545j]\n",
      " [ 0.00000000e+00+0.j          1.21700000e+03+0.j\n",
      "   0.00000000e+00+0.j         ... -4.09989576e-02+0.00053267j\n",
      "  -4.01679593e-02+0.00052187j -3.93700298e-02+0.0005115j ]\n",
      " [ 0.00000000e+00+0.j          0.00000000e+00+0.j\n",
      "   1.23700000e+03+0.j         ... -6.16296611e-02+0.00080071j\n",
      "  -6.03753428e-02+0.00078441j -5.91712376e-02+0.00076877j]\n",
      " ...\n",
      " [-2.04733232e-02-0.00026599j -4.09989576e-02-0.00053267j\n",
      "  -6.16296611e-02-0.00080071j ...  1.31090000e+04+0.j\n",
      "   0.00000000e+00+0.j          0.00000000e+00+0.j        ]\n",
      " [-2.00593795e-02-0.00026062j -4.01679593e-02-0.00052187j\n",
      "  -6.03753428e-02-0.00078441j ...  0.00000000e+00+0.j\n",
      "   1.35010000e+04+0.j          0.00000000e+00+0.j        ]\n",
      " [-1.96618493e-02-0.00025545j -3.93700298e-02-0.0005115j\n",
      "  -5.91712376e-02-0.00076877j ...  0.00000000e+00+0.j\n",
      "   0.00000000e+00+0.j          1.39010000e+04+0.j        ]]\n",
      "2500\n"
     ]
    }
   ],
   "source": [
    "H_Mobius = H_Mobius_matrix(N)"
   ]
  },
  {
   "cell_type": "code",
   "execution_count": 86,
   "metadata": {},
   "outputs": [
    {
     "data": {
      "text/plain": [
       "array([ 0.        +0.j        ,  0.        +0.j        ,\n",
       "        0.        +0.j        , ..., -0.2373185 +0.0030833j ,\n",
       "       -0.23202095+0.00301447j, -0.22696415+0.00294877j])"
      ]
     },
     "execution_count": 86,
     "metadata": {},
     "output_type": "execute_result"
    }
   ],
   "source": [
    "H_Mobius[10]"
   ]
  },
  {
   "cell_type": "code",
   "execution_count": 75,
   "metadata": {},
   "outputs": [
    {
     "data": {
      "text/plain": [
       "array([[0.+0.j, 0.+0.j, 0.+0.j, ..., 0.+0.j, 0.+0.j, 0.+0.j],\n",
       "       [0.+0.j, 0.+0.j, 0.+0.j, ..., 0.+0.j, 0.+0.j, 0.+0.j],\n",
       "       [0.+0.j, 0.+0.j, 0.+0.j, ..., 0.+0.j, 0.+0.j, 0.+0.j],\n",
       "       ...,\n",
       "       [0.+0.j, 0.+0.j, 0.+0.j, ..., 0.+0.j, 0.+0.j, 0.+0.j],\n",
       "       [0.+0.j, 0.+0.j, 0.+0.j, ..., 0.+0.j, 0.+0.j, 0.+0.j],\n",
       "       [0.+0.j, 0.+0.j, 0.+0.j, ..., 0.+0.j, 0.+0.j, 0.+0.j]])"
      ]
     },
     "execution_count": 75,
     "metadata": {},
     "output_type": "execute_result"
    }
   ],
   "source": [
    "#Verify Hermiticity\n",
    "H_Mobius-np.conj(H_Mobius.T)"
   ]
  },
  {
   "cell_type": "code",
   "execution_count": 76,
   "metadata": {
    "colab": {
     "base_uri": "https://localhost:8080/"
    },
    "id": "0sKrJhkVP3RU",
    "outputId": "4710445e-9438-4c44-f579-5db211005a58"
   },
   "outputs": [],
   "source": [
    "#solve matrix \n",
    "E_Mobius, V_Mobius = eig(H_Mobius)"
   ]
  },
  {
   "cell_type": "code",
   "execution_count": 10,
   "metadata": {},
   "outputs": [
    {
     "name": "stdout",
     "output_type": "stream",
     "text": [
      "[16802.85459791+1.36959111e-12j 15858.61424339+2.75442658e-13j\n",
      " 15276.04745472-7.06453283e-13j ...  3534.19764894-5.02539262e-13j\n",
      "  3536.99569479-1.97245784e-13j  3442.61236014+3.26044760e-13j]\n"
     ]
    }
   ],
   "source": [
    "print(E_Mobius) "
   ]
  },
  {
   "cell_type": "code",
   "execution_count": 11,
   "metadata": {
    "colab": {
     "base_uri": "https://localhost:8080/"
    },
    "id": "WPt5W7g4HdYJ",
    "outputId": "0262e116-4fc4-45a9-961a-868c839b8ac1"
   },
   "outputs": [
    {
     "name": "stdout",
     "output_type": "stream",
     "text": [
      "[16802.85459791 15858.61424339 15276.04745472 ...  3534.19764894\n",
      "  3536.99569479  3442.61236014]\n"
     ]
    }
   ],
   "source": [
    "EE=np.real(E_Mobius)\n",
    "print(EE)"
   ]
  },
  {
   "cell_type": "code",
   "execution_count": 12,
   "metadata": {
    "colab": {
     "base_uri": "https://localhost:8080/",
     "height": 279
    },
    "id": "o2iqilcnP3XQ",
    "outputId": "93e15859-228d-4751-e7c0-28bc99c01241"
   },
   "outputs": [
    {
     "data": {
      "image/png": "[encoded data removed]",
      "text/plain": [
       "<Figure size 432x288 with 1 Axes>"
      ]
     },
     "metadata": {
      "needs_background": "light"
     },
     "output_type": "display_data"
    }
   ],
   "source": [
    "#print & plot\n",
    "plotenergies(EE,2500,15000) "
   ]
  },
  {
   "cell_type": "code",
   "execution_count": 134,
   "metadata": {},
   "outputs": [],
   "source": [
    "def oddonly(Matrix):\n",
    "    N = np.size(Matrix,1)\n",
    "    MMatrix = np.zeros([N,2*N], dtype = complex)\n",
    "    for i in range(N):\n",
    "        for j in range(N):\n",
    "            if i%2==0:\n",
    "                MMatrix[i,2*j+1] = Matrix[i,j]\n",
    "            else:\n",
    "                MMatrix[i,2*j] = Matrix[i,j]\n",
    "    return MMatrix"
   ]
  },
  {
   "cell_type": "raw",
   "metadata": {},
   "source": []
  },
  {
   "cell_type": "code",
   "execution_count": 135,
   "metadata": {},
   "outputs": [],
   "source": [
    "OV = oddonly(np.zeros([N,N], dtype = complex))"
   ]
  },
  {
   "cell_type": "code",
   "execution_count": 136,
   "metadata": {},
   "outputs": [
    {
     "name": "stdout",
     "output_type": "stream",
     "text": [
      "100\n"
     ]
    }
   ],
   "source": [
    "print(np.size(OV,1))"
   ]
  },
  {
   "cell_type": "code",
   "execution_count": 137,
   "metadata": {},
   "outputs": [
    {
     "name": "stdout",
     "output_type": "stream",
     "text": [
      "100\n"
     ]
    }
   ],
   "source": [
    "Psi_yy = [np.sqrt(2)*np.sin((t+1)*pi*0.5) for t in range(2*N)]\n",
    "print(np.size(Psi_yy))"
   ]
  },
  {
   "cell_type": "code",
   "execution_count": 138,
   "metadata": {
    "id": "WLCCAyrUBziO"
   },
   "outputs": [],
   "source": [
    "def eigenstates_Mobius(Matrix,N,steps,level):\n",
    "    Psi = np.zeros([steps+1,steps+1], dtype = complex)\n",
    "    x = np.linspace(0,1,steps)\n",
    "    y = x\n",
    "    Matrix = np.reshape(Matrix[:,level],[N,N])\n",
    "    MMatrix = oddonly(Matrix)\n",
    "    for j in range(len(x)):\n",
    "        for k in range(len(y)):\n",
    "            Psi_y = [np.sqrt(2)*np.sin((t+1)*pi*y[k]) for t in range(2*N)]\n",
    "            Psi_x = [np.cos((t+2)*pi*x[j])+np.sin((t+2)*pi*x[j])*I for t in range(N)]\n",
    "            A = np.matmul(MMatrix,Psi_y)\n",
    "            B = np.matmul(np.transpose(Psi_x),A)\n",
    "            #print(B,np.size(B)) control\n",
    "            Psi[k,j] = B\n",
    "    out = Psi\n",
    "    return out"
   ]
  },
  {
   "cell_type": "code",
   "execution_count": 118,
   "metadata": {},
   "outputs": [
    {
     "name": "stdout",
     "output_type": "stream",
     "text": [
      "[ 63 104 105 ...   2   1   0]\n"
     ]
    }
   ],
   "source": [
    "index = np.argsort(np.real(EE))\n",
    "print(index)"
   ]
  },
  {
   "cell_type": "code",
   "execution_count": 106,
   "metadata": {},
   "outputs": [],
   "source": [
    "C_Mobius = V_Mobius[:,index]"
   ]
  },
  {
   "cell_type": "code",
   "execution_count": null,
   "metadata": {},
   "outputs": [],
   "source": [
    "D_Mobius = np.sort(EE)"
   ]
  },
  {
   "cell_type": "code",
   "execution_count": 141,
   "metadata": {},
   "outputs": [
    {
     "data": {
      "image/png": "[encoded data removed]",
      "text/plain": [
       "<Figure size 432x288 with 1 Axes>"
      ]
     },
     "metadata": {
      "needs_background": "light"
     },
     "output_type": "display_data"
    }
   ],
   "source": [
    "plotdensities_Mobius(C_Mobius,N,200,0)"
   ]
  },
  {
   "cell_type": "code",
   "execution_count": 27,
   "metadata": {
    "id": "NJzSD30O16Rj"
   },
   "outputs": [],
   "source": [
    "def oscCYL(m,mm):\n",
    "  Constant = 2*(G**2)/(pi**2)\n",
    "  num = (1-I*(m-mm)*pi)\n",
    "  den = (m-mm)**2\n",
    "  out = Constant*(num/den)\n",
    "  return out\n",
    "\n",
    "def Cyl_O(n,nn): #only odd contributions\n",
    "  if (n+nn)%2==1:\n",
    "    num = -(8*G/(pi**2))*n*nn\n",
    "    den = (n**2-nn**2)\n",
    "    out = num/den\n",
    "  else: \n",
    "    out = 0\n",
    "  return out"
   ]
  },
  {
   "cell_type": "code",
   "execution_count": 29,
   "metadata": {
    "id": "qNc3Kn0lP3dr"
   },
   "outputs": [],
   "source": [
    " #4D  Möbius Hamiltonian matrix elements\n",
    "def Cylinder_H_n_nn_m_mm(n,nn,m,mm):\n",
    "    if mm==m:\n",
    "        if nn==n:\n",
    "            element = (n**2)+((2*m)**2)+(4/3)*(G**2)\n",
    "        else: \n",
    "            element = Cyl_O(n,nn)*I\n",
    "    else: \n",
    "        if n==nn:\n",
    "            element = oscCYL(m,mm)\n",
    "        else:\n",
    "            element = Cyl_O(n,nn)*(1/(m-mm))\n",
    "    return element"
   ]
  },
  {
   "cell_type": "code",
   "execution_count": 30,
   "metadata": {
    "id": "eo08jeXw7HKx"
   },
   "outputs": [],
   "source": [
    "#4D NxNxNxN matrix to 2D NxN matrix of 2D NxN matrices  N is the precission\n",
    "#n-nn position is occupied by an even or odd number given by the parity of m and mm\n",
    "def H_m_mm_Cylinder_Matrix(m,mm,N):\n",
    "  H_block = np.zeros((N,N),dtype=complex)\n",
    "  if m==mm:\n",
    "    for n in range(N):\n",
    "      H_block[n][n] = Cylinder_H_n_nn_m_mm(n+1,n+1,m+1,mm+1)\n",
    "      for nn in range (N):\n",
    "        H_block[n][nn] = Cylinder_H_n_nn_m_mm(n+1,nn+1,m+1,mm+1)\n",
    "  else: \n",
    "    for n in range(N):\n",
    "      for nn in range(N):\n",
    "        H_block[n][nn] = Cylinder_H_n_nn_m_mm(n+1,nn+1,m+1,mm+1)\n",
    "  return H_block"
   ]
  },
  {
   "cell_type": "code",
   "execution_count": 31,
   "metadata": {
    "id": "ZJfK5vEJ7HPX"
   },
   "outputs": [],
   "source": [
    "#Break blocks for Möbius Matrix\n",
    "def H_Cylinder_matrix(N):\n",
    "    Zero = np.zeros((N,N),dtype = complex)\n",
    "    H = [[Zero for _ in range(N)] for _ in range(N)] \n",
    "    #NxN \"matrix of matrices\" of NxN zero matrices\n",
    "    #fill upper triangular blocks and leave zeros everywhere\n",
    "    for m in range(N):\n",
    "      H[m][m] = H_m_mm_Cylinder_Matrix(m,m,N) \n",
    "      #diagonal \n",
    "      for mm in range(m+1,N):\n",
    "        H[m][mm] = H_m_mm_Cylinder_Matrix(m,mm,N) \n",
    "        #upper triangle\n",
    "    H = np.matrix(np.block(H)) \n",
    "    #from block to matrix\n",
    "    H_final = np.triu(H)+ np.tril(np.conj(H.T),-1) \n",
    "    #Make Hermitian\n",
    "    #quality control\n",
    "    print(H_final)\n",
    "    print(np.size(H_final,1))\n",
    "    return H_final"
   ]
  },
  {
   "cell_type": "code",
   "execution_count": 32,
   "metadata": {
    "colab": {
     "base_uri": "https://localhost:8080/"
    },
    "id": "171y_jl27HT3",
    "outputId": "2c61ec1e-10af-42f6-df6a-442c66d7e57d"
   },
   "outputs": [
    {
     "name": "stdout",
     "output_type": "stream",
     "text": [
      "[[ 1.20500000e+03  +0.j          0.00000000e+00 +16.21138938j\n",
      "   0.00000000e+00  +0.j         ... -1.03433856e-02  +0.j\n",
      "   0.00000000e+00  +0.j         -9.92931216e-03  +0.j        ]\n",
      " [ 0.00000000e+00 -16.21138938j  1.20800000e+03  +0.j\n",
      "   0.00000000e+00 +29.18050089j ...  0.00000000e+00  +0.j\n",
      "  -2.02895987e-02  +0.j          0.00000000e+00  +0.j        ]\n",
      " [ 0.00000000e+00  +0.j          0.00000000e+00 -29.18050089j\n",
      "   1.21300000e+03  +0.j         ... -3.11383229e-02  +0.j\n",
      "   0.00000000e+00  +0.j         -2.98836023e-02  +0.j        ]\n",
      " ...\n",
      " [-1.03433856e-02  +0.j          0.00000000e+00  +0.j\n",
      "  -3.11383229e-02  +0.j         ...  1.35040000e+04  +0.j\n",
      "   0.00000000e+00+589.6266159j   0.00000000e+00  +0.j        ]\n",
      " [ 0.00000000e+00  +0.j         -2.02895987e-02  +0.j\n",
      "   0.00000000e+00  +0.j         ...  0.00000000e+00-589.6266159j\n",
      "   1.36010000e+04  +0.j          0.00000000e+00+601.78642406j]\n",
      " [-9.92931216e-03  +0.j          0.00000000e+00  +0.j\n",
      "  -2.98836023e-02  +0.j         ...  0.00000000e+00  +0.j\n",
      "   0.00000000e+00-601.78642406j  1.37000000e+04  +0.j        ]]\n",
      "2500\n"
     ]
    }
   ],
   "source": [
    "H_Cylinder = H_Cylinder_matrix(N)"
   ]
  },
  {
   "cell_type": "code",
   "execution_count": 35,
   "metadata": {},
   "outputs": [
    {
     "data": {
      "text/plain": [
       "array([[0.+0.j, 0.+0.j, 0.+0.j, ..., 0.+0.j, 0.+0.j, 0.+0.j],\n",
       "       [0.+0.j, 0.+0.j, 0.+0.j, ..., 0.+0.j, 0.+0.j, 0.+0.j],\n",
       "       [0.+0.j, 0.+0.j, 0.+0.j, ..., 0.+0.j, 0.+0.j, 0.+0.j],\n",
       "       ...,\n",
       "       [0.+0.j, 0.+0.j, 0.+0.j, ..., 0.+0.j, 0.+0.j, 0.+0.j],\n",
       "       [0.+0.j, 0.+0.j, 0.+0.j, ..., 0.+0.j, 0.+0.j, 0.+0.j],\n",
       "       [0.+0.j, 0.+0.j, 0.+0.j, ..., 0.+0.j, 0.+0.j, 0.+0.j]])"
      ]
     },
     "execution_count": 35,
     "metadata": {},
     "output_type": "execute_result"
    }
   ],
   "source": [
    "H_Cylinder-np.conj(H_Cylinder.T)"
   ]
  },
  {
   "cell_type": "code",
   "execution_count": 36,
   "metadata": {
    "colab": {
     "base_uri": "https://localhost:8080/"
    },
    "id": "f6uiBtbk7HYY",
    "outputId": "1c7d6da6-8adc-4494-e886-e31c00f48069"
   },
   "outputs": [
    {
     "name": "stdout",
     "output_type": "stream",
     "text": [
      "[17325.12934337-1.25445251e-12j 17016.47483444-2.80310653e-13j\n",
      " 16720.76038469+7.60219209e-14j ...  3142.82526739+4.53981999e-13j\n",
      "  3144.27022938-2.63314121e-13j  3145.38925345+6.14925826e-14j]\n"
     ]
    }
   ],
   "source": [
    "#solve matrix\n",
    "E_Cylinder, V_Cylinder = eig(H_Cylinder)\n",
    "print(E_Cylinder)"
   ]
  },
  {
   "cell_type": "code",
   "execution_count": 37,
   "metadata": {},
   "outputs": [
    {
     "name": "stdout",
     "output_type": "stream",
     "text": [
      "[17325.12934337 17016.47483444 16720.76038469 ...  3142.82526739\n",
      "  3144.27022938  3145.38925345]\n"
     ]
    }
   ],
   "source": [
    "EE_Cylinder = np.real(E_Cylinder)\n",
    "print(EE_Cylinder)"
   ]
  },
  {
   "cell_type": "code",
   "execution_count": 39,
   "metadata": {
    "colab": {
     "base_uri": "https://localhost:8080/",
     "height": 283
    },
    "id": "z7lx_1-n7IG7",
    "outputId": "cbd49b08-12a3-4069-df2c-3e6c79503d61"
   },
   "outputs": [
    {
     "data": {
      "image/png": "[encoded data removed]",
      "text/plain": [
       "<Figure size 432x288 with 1 Axes>"
      ]
     },
     "metadata": {
      "needs_background": "light"
     },
     "output_type": "display_data"
    }
   ],
   "source": [
    "#print & plot\n",
    "plotenergies(EE_Cylinder,2500,20000) "
   ]
  },
  {
   "cell_type": "code",
   "execution_count": 46,
   "metadata": {
    "id": "dqiu40yJ7IQh"
   },
   "outputs": [],
   "source": [
    "def eigenstates_Cylinder(Matrix,N,steps,level):\n",
    "    Psi = np.zeros([steps+1,steps+1], dtype = complex )\n",
    "    x = np.linspace(0,1,steps)\n",
    "    y = x\n",
    "    Matrix = np.reshape(Matrix[:,level],[N,N])\n",
    "    for j in range(len(x)):\n",
    "        for k in range(len(y)):\n",
    "            Psi_y = [np.sqrt(2)*np.sin((t+1)*pi*y[k]) for t in range(N)]\n",
    "            Psi_x = [np.cos(2*(t+1)*pi*y[k])+np.sin(2*(t+1)*pi*y[k])*I for t in range(N)]\n",
    "            A = np.matmul(Matrix,Psi_y)\n",
    "            B = np.matmul(np.transpose(Psi_x),A)\n",
    "            #print(B,np.size(B)) control\n",
    "            Psi[k,j] = B\n",
    "    out = Psi\n",
    "    return out"
   ]
  },
  {
   "cell_type": "code",
   "execution_count": 41,
   "metadata": {},
   "outputs": [
    {
     "name": "stdout",
     "output_type": "stream",
     "text": [
      "[203 204 205 ...   2   1   0]\n"
     ]
    }
   ],
   "source": [
    "index_Cylinder = np.argsort(np.real(E_Cylinder))\n",
    "print(index_Cylinder)"
   ]
  },
  {
   "cell_type": "code",
   "execution_count": 42,
   "metadata": {},
   "outputs": [],
   "source": [
    "C_Cylinder = V_Cylinder[:,index]"
   ]
  },
  {
   "cell_type": "code",
   "execution_count": 55,
   "metadata": {},
   "outputs": [
    {
     "data": {
      "image/png": "[encoded data removed]",
      "text/plain": [
       "<Figure size 432x288 with 1 Axes>"
      ]
     },
     "metadata": {
      "needs_background": "light"
     },
     "output_type": "display_data"
    }
   ],
   "source": [
    "plotdensities_Cylinder(C_Cylinder,N,200,0)"
   ]
  },
  {
   "cell_type": "code",
   "execution_count": null,
   "metadata": {},
   "outputs": [],
   "source": []
  },
  {
   "cell_type": "code",
   "execution_count": null,
   "metadata": {},
   "outputs": [],
   "source": []
  },
  {
   "cell_type": "code",
   "execution_count": null,
   "metadata": {
    "id": "zTjyPIijaBL0"
   },
   "outputs": [],
   "source": []
  }
 ],
 "metadata": {
  "colab": {
   "collapsed_sections": [],
   "name": "Landau Levels in Quantum Dot.ipynb",
   "provenance": []
  },
  "kernelspec": {
   "display_name": "Python 3 (ipykernel)",
   "language": "python",
   "name": "python3"
  },
  "language_info": {
   "codemirror_mode": {
    "name": "ipython",
    "version": 3
   },
   "file_extension": ".py",
   "mimetype": "text/x-python",
   "name": "python",
   "nbconvert_exporter": "python",
   "pygments_lexer": "ipython3",
   "version": "3.9.7"
  }
 },
 "nbformat": 4,
 "nbformat_minor": 1
}
